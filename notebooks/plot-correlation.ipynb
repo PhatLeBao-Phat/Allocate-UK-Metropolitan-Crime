{
 "cells": [
  {
   "cell_type": "code",
   "execution_count": 4,
   "metadata": {},
   "outputs": [],
   "source": [
    "import pandas as pd \n",
    "import ast \n",
    "import numpy as np \n",
    "import os \n",
    "from pathlib import Path\n",
    "import re"
   ]
  },
  {
   "cell_type": "code",
   "execution_count": 5,
   "metadata": {},
   "outputs": [],
   "source": [
    "# douma \n",
    "os.chdir(Path(os.getcwd()).parent)"
   ]
  },
  {
   "cell_type": "code",
   "execution_count": 6,
   "metadata": {},
   "outputs": [],
   "source": [
    "# Internal import \n",
    "from helpers import *"
   ]
  },
  {
   "attachments": {},
   "cell_type": "markdown",
   "metadata": {},
   "source": [
    "### 1. Population"
   ]
  },
  {
   "cell_type": "code",
   "execution_count": 7,
   "metadata": {},
   "outputs": [
    {
     "name": "stderr",
     "output_type": "stream",
     "text": [
      "C:\\Users\\PC\\AppData\\Local\\Temp\\ipykernel_15940\\92757048.py:1: DtypeWarning: Columns (757,758,760,761,762,844,845,851,852,853,868,874,875,880,881,886,887,892,893,900,901,916,917,924,925,932,933,949,950,958,959,974,975,994,995,1000,1001,1010,1011,1020,1021,1080) have mixed types. Specify dtype option on import or set low_memory=False.\n",
      "  df = pd.read_csv('data/lsoa-data-old-boundaries-DataSheet.csv', encoding = \"ISO-8859-1\")\n"
     ]
    }
   ],
   "source": [
    "df = pd.read_csv('data/lsoa-data-old-boundaries-DataSheet.csv', encoding = \"ISO-8859-1\")"
   ]
  },
  {
   "cell_type": "code",
   "execution_count": 8,
   "metadata": {},
   "outputs": [
    {
     "name": "stderr",
     "output_type": "stream",
     "text": [
      "C:\\Users\\PC\\AppData\\Local\\Temp\\ipykernel_15940\\1643310958.py:2: DtypeWarning: Columns (757,758,760,761,762,844,845,851,852,853,868,874,875,880,881,886,887,892,893,900,901,916,917,924,925,932,933,949,950,958,959,974,975,994,995,1000,1001,1010,1011,1020,1021,1080) have mixed types. Specify dtype option on import or set low_memory=False.\n",
      "  df = pd.read_csv('data/lsoa-data-old-boundaries-DataSheet.csv', encoding = \"ISO-8859-1\")\n"
     ]
    }
   ],
   "source": [
    "# Population \n",
    "df = pd.read_csv('data/lsoa-data-old-boundaries-DataSheet.csv', encoding = \"ISO-8859-1\")\n",
    "col = ['Lower Super Output Area', 'Names', 'Mid-year Population Estimates;Aged 0-15;2012'] # Subset \n",
    "df = df[col].dropna(subset=['Lower Super Output Area']).copy()\n",
    "df.columns = ['LSOA code', 'names', 'pop_2012'] # Rename \n",
    "# Types \n",
    "df['names'].astype(str)\n",
    "df['LSOA code'].astype(str)\n",
    "df['pop_2012'].astype(float);\n",
    "df = df[df['names'].apply(lambda row: 'Barnet' in row)] # Barnet only"
   ]
  },
  {
   "cell_type": "code",
   "execution_count": 9,
   "metadata": {},
   "outputs": [],
   "source": [
    "# Mapping to wards \n",
    "pop_df = mapping_wards(df)\n",
    "pop_df.dropna(inplace=True)"
   ]
  },
  {
   "cell_type": "code",
   "execution_count": 10,
   "metadata": {},
   "outputs": [],
   "source": [
    "# Total \n",
    "pop_df = pop_df[['WD22NM', 'pop_2012']].groupby('WD22NM').sum().reset_index()\n",
    "pop_df.rename(columns={'WD22NM' : 'Ward'}, inplace=True)"
   ]
  },
  {
   "attachments": {},
   "cell_type": "markdown",
   "metadata": {},
   "source": [
    "### 2. Crime prediction "
   ]
  },
  {
   "cell_type": "code",
   "execution_count": 11,
   "metadata": {},
   "outputs": [],
   "source": [
    "# Read-in:\n",
    "predicted_df = pd.read_csv('data/total_crime_predicted.csv')\n",
    "predicted_df.drop(columns=['Unnamed: 0'], inplace=True)\n",
    "predicted_f1 = predicted_df.iloc[0] # Only first month \n",
    "predicted_f1.index = pop_df.Ward.values\n",
    "crime_df = pd.DataFrame({\n",
    "    'Ward' : predicted_f1.index,\n",
    "    'predicted_crime' : predicted_f1.values\n",
    "})\n",
    "crime_df;\n"
   ]
  },
  {
   "cell_type": "code",
   "execution_count": 9,
   "metadata": {},
   "outputs": [],
   "source": [
    "crime_df;"
   ]
  },
  {
   "attachments": {},
   "cell_type": "markdown",
   "metadata": {},
   "source": [
    "### 3. CCTV"
   ]
  },
  {
   "attachments": {},
   "cell_type": "markdown",
   "metadata": {},
   "source": [
    "https://open.barnet.gov.uk/dataset/2l0g2/cctv-camera-locations\n",
    "This dataset incorporates CCTV cameras installed by London Borough of Barnet in conjunction with OCS Ltd for the purposes of Community Safety."
   ]
  },
  {
   "cell_type": "code",
   "execution_count": 10,
   "metadata": {},
   "outputs": [],
   "source": [
    "postcode = pd.read_csv('data/CCTV/Barnet postcodes.csv')\n",
    "# postcode.head()"
   ]
  },
  {
   "cell_type": "code",
   "execution_count": 11,
   "metadata": {},
   "outputs": [],
   "source": [
    "# Read-in PostCode:\n",
    "postcode = pd.read_csv('data/CCTV/Barnet postcodes.csv')\n",
    "postcode = postcode[['Postcode', 'Ward']].copy()\n",
    "postcode['Postcode'] = postcode['Postcode'].apply(lambda row: row[:3])\n",
    "postcode.drop_duplicates(inplace=True)\n",
    "postcode['Postcode'] = postcode['Postcode'].astype(str)"
   ]
  },
  {
   "cell_type": "code",
   "execution_count": 12,
   "metadata": {},
   "outputs": [],
   "source": [
    "# Read-in CCTV:\n",
    "cam_df = pd.read_csv('data/CCTV/2017-06-12 CCTV camera list.csv', encoding = \"ISO-8859-1\")\n",
    "cam_df['Zone'] = cam_df['Zone'].astype(str).apply(lambda row: row[-3:])\n",
    "cam_df.drop(columns=['Location'], inplace=True)\n",
    "cam_df.rename(columns={'Zone' : 'Postcode'}, inplace=True)\n",
    "cam_df['Postcode'] = cam_df['Postcode'].astype(str)"
   ]
  },
  {
   "cell_type": "code",
   "execution_count": 13,
   "metadata": {},
   "outputs": [],
   "source": [
    "# Map to wards\n",
    "cctv_df = cam_df.merge(postcode, how='cross')\n",
    "cctv_df = cctv_df[cctv_df.Postcode_x == cctv_df.Postcode_y][['Camera', 'Ward']]\n",
    "cctv_df = cctv_df.groupby('Ward').count().reset_index()\n",
    "cctv_df;"
   ]
  },
  {
   "cell_type": "code",
   "execution_count": 14,
   "metadata": {},
   "outputs": [],
   "source": [
    "# Add the missing \n",
    "missing = pop_df['Ward'][pop_df['Ward'].apply(lambda row: row not in cctv_df.Ward.values)]\n",
    "douma = pd.DataFrame({\n",
    "    'Ward' : missing,\n",
    "    'Camera' : [0, 0],\n",
    "})\n",
    "cctv_df = pd.concat([cctv_df, douma]).sort_values(by='Ward').reset_index(drop=True)\n",
    "cctv_df;"
   ]
  },
  {
   "attachments": {},
   "cell_type": "markdown",
   "metadata": {},
   "source": [
    "### 4. Stop-and-Search\n"
   ]
  },
  {
   "cell_type": "code",
   "execution_count": 15,
   "metadata": {},
   "outputs": [],
   "source": [
    "# Load \n",
    "# PATH = 'data/data_sas'\n",
    "# lst_df = []\n",
    "# for subdir in os.listdir(PATH):\n",
    "#     file_path = os.path.join(PATH, subdir)\n",
    "#     for file in os.listdir(file_path):\n",
    "#         file = os.path.join(file_path, file)\n",
    "#         try:\n",
    "#             lst_df.append(pd.read_csv(file))\n",
    "#         except FileNotFoundError:\n",
    "#             continue\n",
    "\n",
    "# df_sas = pd.concat(lst_df)"
   ]
  },
  {
   "attachments": {},
   "cell_type": "markdown",
   "metadata": {},
   "source": [
    "This doesn't work  "
   ]
  },
  {
   "attachments": {},
   "cell_type": "markdown",
   "metadata": {},
   "source": [
    "### 5. English Indices of Deprivation 2019 - LSOA Level"
   ]
  },
  {
   "attachments": {},
   "cell_type": "markdown",
   "metadata": {},
   "source": [
    "The Indices of Deprivation are the government's official measure of multiple deprivation at small area level and provide a consistent measure of deprivation across England1. The English Indices of Deprivation measure relative deprivation in small areas in England called lower-layer super output areas (LSOAs)2. The indices are based on 39 separate indicators, organised across seven distinct domains of deprivation23. These domains are:"
   ]
  },
  {
   "attachments": {},
   "cell_type": "markdown",
   "metadata": {},
   "source": [
    "- a. Index of Multiple Deprivation (IMD) \n",
    "- b. Income Deprivation Domain \n",
    "- c. Employment Deprivation Domain \n",
    "- d. Education, Skills and Training Domain \n",
    "- e. Health Deprivation and Disability Domain \n",
    "- f. Crime Domain \n",
    "- g. Barriers to Housing and Services Domain \n",
    "- h. Living Environment Deprivation Domain \n",
    "- i. Income Deprivation Affecting Children Index (IDACI) \n",
    "- j. Income Deprivation Affecting Older People Index (IDAOPI) "
   ]
  },
  {
   "attachments": {},
   "cell_type": "markdown",
   "metadata": {},
   "source": [
    "Three measure types: Decile, Rank, and Score"
   ]
  },
  {
   "cell_type": "code",
   "execution_count": 12,
   "metadata": {},
   "outputs": [],
   "source": [
    "# Read-in:\n",
    "imd_df = pd.read_csv('IMD/imd2019lsoa (1).csv').drop(columns=['DateCode', 'Units'])\n",
    "imd_df.rename(columns={'FeatureCode' : 'LSOA code'}, inplace=True)\n",
    "imd_df = mapping_wards(imd_df)\n",
    "# Take only the IMD (weighted sum) : Score\n",
    "imd_df = imd_df[imd_df['Indices of Deprivation'] == 'a. Index of Multiple Deprivation (IMD)']\n",
    "imd_df = imd_df[imd_df['Measurement'] == 'Score'].copy()\n",
    "imd_df.drop(columns=['LSOA code', 'Measurement', 'Indices of Deprivation'], inplace=True)\n",
    "imd_df = imd_df[imd_df['WD22NM'].apply(lambda row: row in pop_df.Ward.values)] # Take only Barnet's\n",
    "imd_df = imd_df.groupby('WD22NM').sum().reset_index()\n",
    "imd_df = imd_df.rename(columns={'WD22NM' : 'Ward'})\n",
    "imd_df;"
   ]
  },
  {
   "cell_type": "code",
   "execution_count": 13,
   "metadata": {},
   "outputs": [],
   "source": [
    "# Load df_all:\n",
    "df_all = pd.read_csv('data/filter/df_all.csv')\n",
    "df_all = df_all.drop(columns=['Unnamed: 0'])\n",
    "df_all['ts'] = pd.to_datetime(df_all.Month)\n",
    "df_all['year'] = df_all.ts.apply(lambda row: row.year)"
   ]
  },
  {
   "cell_type": "code",
   "execution_count": 14,
   "metadata": {},
   "outputs": [],
   "source": [
    "# Calculate the mean\n",
    "mean_2019 = df_all[df_all.year == 2019].drop(columns=['Month', 'ts', 'year']).mean()\n",
    "mean_2019;"
   ]
  },
  {
   "cell_type": "code",
   "execution_count": 16,
   "metadata": {},
   "outputs": [
    {
     "data": {
      "image/png": "[encoded data removed]",
      "text/plain": [
       "<Figure size 640x480 with 1 Axes>"
      ]
     },
     "metadata": {},
     "output_type": "display_data"
    }
   ],
   "source": [
    "# Plot \n",
    "import matplotlib.pyplot as plt \n",
    "import seaborn as sns \n",
    "\n",
    "# plt.scatter(x=mean_2019, y=imd_df['Value'])\n",
    "# plt.title('Scatter Plot between Deprivation Index and avg crime count per wards (2019)')\n",
    "# plt.xlabel('Mean burglary count')\n",
    "# plt.ylabel('IMD')\n",
    "ax = sns.regplot(x=mean_2019, y=imd_df['Value'])\n",
    "ax.set(\n",
    "    title='Scatter Plot between Deprivation Index and avg burglary count per wards 2019 (corr=0.46)',\n",
    "    xlabel='Mean burglary count',\n",
    "    ylabel='IMD',\n",
    ");\n",
    "ax.get_figure().savefig('corr.jpg', bbox_inches='tight')\n"
   ]
  },
  {
   "attachments": {},
   "cell_type": "markdown",
   "metadata": {},
   "source": [
    "### 6. Area"
   ]
  },
  {
   "cell_type": "code",
   "execution_count": 17,
   "metadata": {},
   "outputs": [],
   "source": [
    "# Read-in:\n",
    "area_df = pd.read_csv('data/LSOAs/Lower_Layer_Super_Output_Area_(2021)_EW_BFE.csv')\n",
    "area_df = area_df[['LSOA21CD', 'SHAPE_Area']].copy()\n",
    "area_df.rename(columns={'LSOA21CD' : 'LSOA code'}, inplace=True)\n",
    "area_df = mapping_wards(area_df)\n",
    "area_df = area_df[area_df['WD22NM'].apply(lambda row: row in pop_df.Ward.values)] # Take only Barnet's\n",
    "area_df = area_df[['WD22NM', 'SHAPE_Area']].groupby('WD22NM').sum().reset_index()\n",
    "area_df = area_df.rename(columns={'WD22NM' : 'Ward'})\n",
    "area_df;"
   ]
  },
  {
   "cell_type": "code",
   "execution_count": 18,
   "metadata": {},
   "outputs": [
    {
     "data": {
      "text/html": [
       "<div>\n",
       "<style scoped>\n",
       "    .dataframe tbody tr th:only-of-type {\n",
       "        vertical-align: middle;\n",
       "    }\n",
       "\n",
       "    .dataframe tbody tr th {\n",
       "        vertical-align: top;\n",
       "    }\n",
       "\n",
       "    .dataframe thead th {\n",
       "        text-align: right;\n",
       "    }\n",
       "</style>\n",
       "<table border=\"1\" class=\"dataframe\">\n",
       "  <thead>\n",
       "    <tr style=\"text-align: right;\">\n",
       "      <th></th>\n",
       "      <th>Ward</th>\n",
       "      <th>SHAPE_Area</th>\n",
       "    </tr>\n",
       "  </thead>\n",
       "  <tbody>\n",
       "    <tr>\n",
       "      <th>0</th>\n",
       "      <td>Barnet Vale</td>\n",
       "      <td>3.534928e+06</td>\n",
       "    </tr>\n",
       "    <tr>\n",
       "      <th>1</th>\n",
       "      <td>Brunswick Park</td>\n",
       "      <td>3.173690e+06</td>\n",
       "    </tr>\n",
       "    <tr>\n",
       "      <th>2</th>\n",
       "      <td>Burnt Oak</td>\n",
       "      <td>2.758751e+06</td>\n",
       "    </tr>\n",
       "    <tr>\n",
       "      <th>3</th>\n",
       "      <td>Childs Hill</td>\n",
       "      <td>2.875035e+06</td>\n",
       "    </tr>\n",
       "    <tr>\n",
       "      <th>4</th>\n",
       "      <td>Colindale North</td>\n",
       "      <td>9.387545e+05</td>\n",
       "    </tr>\n",
       "  </tbody>\n",
       "</table>\n",
       "</div>"
      ],
      "text/plain": [
       "              Ward    SHAPE_Area\n",
       "0      Barnet Vale  3.534928e+06\n",
       "1   Brunswick Park  3.173690e+06\n",
       "2        Burnt Oak  2.758751e+06\n",
       "3      Childs Hill  2.875035e+06\n",
       "4  Colindale North  9.387545e+05"
      ]
     },
     "execution_count": 18,
     "metadata": {},
     "output_type": "execute_result"
    }
   ],
   "source": [
    "area_df.head()"
   ]
  },
  {
   "attachments": {},
   "cell_type": "markdown",
   "metadata": {},
   "source": [
    "### 7. Combine"
   ]
  },
  {
   "cell_type": "code",
   "execution_count": 19,
   "metadata": {},
   "outputs": [],
   "source": [
    "# Combine \n",
    "df = pd.concat(\n",
    "    [pop_df, crime_df, cctv_df, imd_df, area_df],\n",
    "    axis=1\n",
    ")\n",
    "df.drop(columns=['Ward'], inplace=True)\n",
    "df['Ward'] = pop_df.Ward\n",
    "df['density'] = df.Value / df.SHAPE_Area"
   ]
  },
  {
   "cell_type": "code",
   "execution_count": 20,
   "metadata": {},
   "outputs": [],
   "source": [
    "# Proportion \n",
    "col = ['pop_2012', 'predicted_crime', 'Camera', 'Value', 'SHAPE_Area', \n",
    "       'density']\n",
    "for col_name in col:\n",
    "    df[col_name] = df[col_name] / sum(df[col_name])\n",
    "df.columns = ['pop_2012', 'predicted_crime', 'camera', 'imd_value', 'area', 'ward' ,'density']    "
   ]
  },
  {
   "cell_type": "code",
   "execution_count": 21,
   "metadata": {},
   "outputs": [],
   "source": [
    "# Write to csv\n",
    "df.reset_index(drop=True).to_csv('data/property.csv', index=False)"
   ]
  },
  {
   "attachments": {},
   "cell_type": "markdown",
   "metadata": {},
   "source": [
    "### 7. Test run "
   ]
  },
  {
   "cell_type": "code",
   "execution_count": 25,
   "metadata": {},
   "outputs": [
    {
     "data": {
      "text/html": [
       "<div>\n",
       "<style scoped>\n",
       "    .dataframe tbody tr th:only-of-type {\n",
       "        vertical-align: middle;\n",
       "    }\n",
       "\n",
       "    .dataframe tbody tr th {\n",
       "        vertical-align: top;\n",
       "    }\n",
       "\n",
       "    .dataframe thead th {\n",
       "        text-align: right;\n",
       "    }\n",
       "</style>\n",
       "<table border=\"1\" class=\"dataframe\">\n",
       "  <thead>\n",
       "    <tr style=\"text-align: right;\">\n",
       "      <th></th>\n",
       "      <th>pop_2012</th>\n",
       "      <th>predicted_crime</th>\n",
       "      <th>camera</th>\n",
       "      <th>imd_value</th>\n",
       "      <th>area</th>\n",
       "      <th>ward</th>\n",
       "      <th>density</th>\n",
       "    </tr>\n",
       "  </thead>\n",
       "  <tbody>\n",
       "    <tr>\n",
       "      <th>0</th>\n",
       "      <td>0.040710</td>\n",
       "      <td>0.023685</td>\n",
       "      <td>0.044156</td>\n",
       "      <td>0.027964</td>\n",
       "      <td>0.033664</td>\n",
       "      <td>Barnet Vale</td>\n",
       "      <td>0.027262</td>\n",
       "    </tr>\n",
       "    <tr>\n",
       "      <th>1</th>\n",
       "      <td>0.046425</td>\n",
       "      <td>0.052203</td>\n",
       "      <td>0.057143</td>\n",
       "      <td>0.029974</td>\n",
       "      <td>0.030224</td>\n",
       "      <td>Brunswick Park</td>\n",
       "      <td>0.032548</td>\n",
       "    </tr>\n",
       "    <tr>\n",
       "      <th>2</th>\n",
       "      <td>0.060563</td>\n",
       "      <td>0.035664</td>\n",
       "      <td>0.077922</td>\n",
       "      <td>0.066496</td>\n",
       "      <td>0.026272</td>\n",
       "      <td>Burnt Oak</td>\n",
       "      <td>0.083068</td>\n",
       "    </tr>\n",
       "    <tr>\n",
       "      <th>3</th>\n",
       "      <td>0.047806</td>\n",
       "      <td>0.105859</td>\n",
       "      <td>0.041558</td>\n",
       "      <td>0.042253</td>\n",
       "      <td>0.027380</td>\n",
       "      <td>Childs Hill</td>\n",
       "      <td>0.050648</td>\n",
       "    </tr>\n",
       "    <tr>\n",
       "      <th>4</th>\n",
       "      <td>0.033979</td>\n",
       "      <td>0.024773</td>\n",
       "      <td>0.025974</td>\n",
       "      <td>0.040719</td>\n",
       "      <td>0.008940</td>\n",
       "      <td>Colindale North</td>\n",
       "      <td>0.149483</td>\n",
       "    </tr>\n",
       "    <tr>\n",
       "      <th>5</th>\n",
       "      <td>0.004252</td>\n",
       "      <td>0.002479</td>\n",
       "      <td>0.046753</td>\n",
       "      <td>0.002904</td>\n",
       "      <td>0.013331</td>\n",
       "      <td>Colindale South</td>\n",
       "      <td>0.007150</td>\n",
       "    </tr>\n",
       "    <tr>\n",
       "      <th>6</th>\n",
       "      <td>0.029320</td>\n",
       "      <td>0.059272</td>\n",
       "      <td>0.010390</td>\n",
       "      <td>0.042835</td>\n",
       "      <td>0.019881</td>\n",
       "      <td>Cricklewood</td>\n",
       "      <td>0.070710</td>\n",
       "    </tr>\n",
       "    <tr>\n",
       "      <th>7</th>\n",
       "      <td>0.046899</td>\n",
       "      <td>0.024646</td>\n",
       "      <td>0.059740</td>\n",
       "      <td>0.034090</td>\n",
       "      <td>0.035732</td>\n",
       "      <td>East Barnet</td>\n",
       "      <td>0.031311</td>\n",
       "    </tr>\n",
       "    <tr>\n",
       "      <th>8</th>\n",
       "      <td>0.042064</td>\n",
       "      <td>0.031536</td>\n",
       "      <td>0.000000</td>\n",
       "      <td>0.035087</td>\n",
       "      <td>0.024036</td>\n",
       "      <td>East Finchley</td>\n",
       "      <td>0.047908</td>\n",
       "    </tr>\n",
       "    <tr>\n",
       "      <th>9</th>\n",
       "      <td>0.050474</td>\n",
       "      <td>0.067986</td>\n",
       "      <td>0.062338</td>\n",
       "      <td>0.061872</td>\n",
       "      <td>0.039960</td>\n",
       "      <td>Edgware</td>\n",
       "      <td>0.050815</td>\n",
       "    </tr>\n",
       "    <tr>\n",
       "      <th>10</th>\n",
       "      <td>0.044285</td>\n",
       "      <td>0.021906</td>\n",
       "      <td>0.062338</td>\n",
       "      <td>0.025635</td>\n",
       "      <td>0.074066</td>\n",
       "      <td>Edgwarebury</td>\n",
       "      <td>0.011359</td>\n",
       "    </tr>\n",
       "    <tr>\n",
       "      <th>11</th>\n",
       "      <td>0.044596</td>\n",
       "      <td>0.069747</td>\n",
       "      <td>0.041558</td>\n",
       "      <td>0.024184</td>\n",
       "      <td>0.027492</td>\n",
       "      <td>Finchley Church End</td>\n",
       "      <td>0.028871</td>\n",
       "    </tr>\n",
       "    <tr>\n",
       "      <th>12</th>\n",
       "      <td>0.053724</td>\n",
       "      <td>0.041880</td>\n",
       "      <td>0.059740</td>\n",
       "      <td>0.041870</td>\n",
       "      <td>0.027913</td>\n",
       "      <td>Friern Barnet</td>\n",
       "      <td>0.049229</td>\n",
       "    </tr>\n",
       "    <tr>\n",
       "      <th>13</th>\n",
       "      <td>0.032164</td>\n",
       "      <td>0.034385</td>\n",
       "      <td>0.000000</td>\n",
       "      <td>0.012012</td>\n",
       "      <td>0.035975</td>\n",
       "      <td>Garden Suburb</td>\n",
       "      <td>0.010958</td>\n",
       "    </tr>\n",
       "    <tr>\n",
       "      <th>14</th>\n",
       "      <td>0.061362</td>\n",
       "      <td>0.036817</td>\n",
       "      <td>0.010390</td>\n",
       "      <td>0.027840</td>\n",
       "      <td>0.019590</td>\n",
       "      <td>Golders Green</td>\n",
       "      <td>0.046642</td>\n",
       "    </tr>\n",
       "    <tr>\n",
       "      <th>15</th>\n",
       "      <td>0.059155</td>\n",
       "      <td>0.072449</td>\n",
       "      <td>0.031169</td>\n",
       "      <td>0.143976</td>\n",
       "      <td>0.069474</td>\n",
       "      <td>Hendon</td>\n",
       "      <td>0.068014</td>\n",
       "    </tr>\n",
       "    <tr>\n",
       "      <th>16</th>\n",
       "      <td>0.032056</td>\n",
       "      <td>0.031713</td>\n",
       "      <td>0.044156</td>\n",
       "      <td>0.019816</td>\n",
       "      <td>0.084049</td>\n",
       "      <td>High Barnet</td>\n",
       "      <td>0.007738</td>\n",
       "    </tr>\n",
       "    <tr>\n",
       "      <th>17</th>\n",
       "      <td>0.042416</td>\n",
       "      <td>0.042471</td>\n",
       "      <td>0.041558</td>\n",
       "      <td>0.045111</td>\n",
       "      <td>0.107824</td>\n",
       "      <td>Mill Hill</td>\n",
       "      <td>0.013731</td>\n",
       "    </tr>\n",
       "    <tr>\n",
       "      <th>18</th>\n",
       "      <td>0.035536</td>\n",
       "      <td>0.050182</td>\n",
       "      <td>0.051948</td>\n",
       "      <td>0.019054</td>\n",
       "      <td>0.081790</td>\n",
       "      <td>Totteridge &amp; Woodside</td>\n",
       "      <td>0.007646</td>\n",
       "    </tr>\n",
       "    <tr>\n",
       "      <th>19</th>\n",
       "      <td>0.032232</td>\n",
       "      <td>0.011411</td>\n",
       "      <td>0.020779</td>\n",
       "      <td>0.031867</td>\n",
       "      <td>0.018082</td>\n",
       "      <td>Underhill</td>\n",
       "      <td>0.057841</td>\n",
       "    </tr>\n",
       "    <tr>\n",
       "      <th>20</th>\n",
       "      <td>0.052478</td>\n",
       "      <td>0.052581</td>\n",
       "      <td>0.031169</td>\n",
       "      <td>0.033075</td>\n",
       "      <td>0.025898</td>\n",
       "      <td>West Finchley</td>\n",
       "      <td>0.041915</td>\n",
       "    </tr>\n",
       "    <tr>\n",
       "      <th>21</th>\n",
       "      <td>0.046492</td>\n",
       "      <td>0.043751</td>\n",
       "      <td>0.057143</td>\n",
       "      <td>0.045726</td>\n",
       "      <td>0.033726</td>\n",
       "      <td>West Hendon</td>\n",
       "      <td>0.044497</td>\n",
       "    </tr>\n",
       "    <tr>\n",
       "      <th>22</th>\n",
       "      <td>0.029794</td>\n",
       "      <td>0.030509</td>\n",
       "      <td>0.062338</td>\n",
       "      <td>0.017624</td>\n",
       "      <td>0.026496</td>\n",
       "      <td>Whetstone</td>\n",
       "      <td>0.021829</td>\n",
       "    </tr>\n",
       "    <tr>\n",
       "      <th>23</th>\n",
       "      <td>0.031216</td>\n",
       "      <td>0.032094</td>\n",
       "      <td>0.059740</td>\n",
       "      <td>0.128015</td>\n",
       "      <td>0.108205</td>\n",
       "      <td>Woodhouse</td>\n",
       "      <td>0.038828</td>\n",
       "    </tr>\n",
       "  </tbody>\n",
       "</table>\n",
       "</div>"
      ],
      "text/plain": [
       "    pop_2012  predicted_crime    camera  imd_value      area   \n",
       "0   0.040710         0.023685  0.044156   0.027964  0.033664  \\\n",
       "1   0.046425         0.052203  0.057143   0.029974  0.030224   \n",
       "2   0.060563         0.035664  0.077922   0.066496  0.026272   \n",
       "3   0.047806         0.105859  0.041558   0.042253  0.027380   \n",
       "4   0.033979         0.024773  0.025974   0.040719  0.008940   \n",
       "5   0.004252         0.002479  0.046753   0.002904  0.013331   \n",
       "6   0.029320         0.059272  0.010390   0.042835  0.019881   \n",
       "7   0.046899         0.024646  0.059740   0.034090  0.035732   \n",
       "8   0.042064         0.031536  0.000000   0.035087  0.024036   \n",
       "9   0.050474         0.067986  0.062338   0.061872  0.039960   \n",
       "10  0.044285         0.021906  0.062338   0.025635  0.074066   \n",
       "11  0.044596         0.069747  0.041558   0.024184  0.027492   \n",
       "12  0.053724         0.041880  0.059740   0.041870  0.027913   \n",
       "13  0.032164         0.034385  0.000000   0.012012  0.035975   \n",
       "14  0.061362         0.036817  0.010390   0.027840  0.019590   \n",
       "15  0.059155         0.072449  0.031169   0.143976  0.069474   \n",
       "16  0.032056         0.031713  0.044156   0.019816  0.084049   \n",
       "17  0.042416         0.042471  0.041558   0.045111  0.107824   \n",
       "18  0.035536         0.050182  0.051948   0.019054  0.081790   \n",
       "19  0.032232         0.011411  0.020779   0.031867  0.018082   \n",
       "20  0.052478         0.052581  0.031169   0.033075  0.025898   \n",
       "21  0.046492         0.043751  0.057143   0.045726  0.033726   \n",
       "22  0.029794         0.030509  0.062338   0.017624  0.026496   \n",
       "23  0.031216         0.032094  0.059740   0.128015  0.108205   \n",
       "\n",
       "                     ward   density  \n",
       "0             Barnet Vale  0.027262  \n",
       "1          Brunswick Park  0.032548  \n",
       "2               Burnt Oak  0.083068  \n",
       "3             Childs Hill  0.050648  \n",
       "4         Colindale North  0.149483  \n",
       "5         Colindale South  0.007150  \n",
       "6             Cricklewood  0.070710  \n",
       "7             East Barnet  0.031311  \n",
       "8           East Finchley  0.047908  \n",
       "9                 Edgware  0.050815  \n",
       "10            Edgwarebury  0.011359  \n",
       "11    Finchley Church End  0.028871  \n",
       "12          Friern Barnet  0.049229  \n",
       "13          Garden Suburb  0.010958  \n",
       "14          Golders Green  0.046642  \n",
       "15                 Hendon  0.068014  \n",
       "16            High Barnet  0.007738  \n",
       "17              Mill Hill  0.013731  \n",
       "18  Totteridge & Woodside  0.007646  \n",
       "19              Underhill  0.057841  \n",
       "20          West Finchley  0.041915  \n",
       "21            West Hendon  0.044497  \n",
       "22              Whetstone  0.021829  \n",
       "23              Woodhouse  0.038828  "
      ]
     },
     "execution_count": 25,
     "metadata": {},
     "output_type": "execute_result"
    }
   ],
   "source": [
    "df"
   ]
  }
 ],
 "metadata": {
  "kernelspec": {
   "display_name": "Python 3",
   "language": "python",
   "name": "python3"
  },
  "language_info": {
   "codemirror_mode": {
    "name": "ipython",
    "version": 3
   },
   "file_extension": ".py",
   "mimetype": "text/x-python",
   "name": "python",
   "nbconvert_exporter": "python",
   "pygments_lexer": "ipython3",
   "version": "3.9.7"
  },
  "orig_nbformat": 4
 },
 "nbformat": 4,
 "nbformat_minor": 2
}
